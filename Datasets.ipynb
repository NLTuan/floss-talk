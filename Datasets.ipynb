{
 "cells": [
  {
   "cell_type": "code",
   "execution_count": 3,
   "id": "b89ebad1-3410-4f67-8206-e7e758607121",
   "metadata": {},
   "outputs": [],
   "source": [
    "from datasets import load_dataset"
   ]
  },
  {
   "cell_type": "code",
   "execution_count": null,
   "id": "8c87ce9a-afdd-4481-8b1a-bc9ae7abf5ee",
   "metadata": {},
   "outputs": [],
   "source": [
    "dsd = load_dataset('ylecun/mnist')"
   ]
  },
  {
   "cell_type": "code",
   "execution_count": 9,
   "id": "10be28c5-398c-4c3f-9f8e-5e9c69655996",
   "metadata": {},
   "outputs": [
    {
     "data": {
      "image/jpeg": "[encoded data removed]",
      "image/png": "[encoded data removed]",
      "text/plain": [
       "<PIL.PngImagePlugin.PngImageFile image mode=L size=28x28>"
      ]
     },
     "execution_count": 9,
     "metadata": {},
     "output_type": "execute_result"
    }
   ],
   "source": [
    "dsd['train']['image'][0]"
   ]
  },
  {
   "cell_type": "code",
   "execution_count": 10,
   "id": "c800e958-d959-4646-becb-d25c426eb34f",
   "metadata": {},
   "outputs": [
    {
     "data": {
      "text/plain": [
       "5"
      ]
     },
     "execution_count": 10,
     "metadata": {},
     "output_type": "execute_result"
    }
   ],
   "source": [
    "dsd['train']['label'][0]"
   ]
  },
  {
   "cell_type": "code",
   "execution_count": null,
   "id": "ba4b1018-4722-4df1-9909-83eff3a1fbab",
   "metadata": {},
   "outputs": [],
   "source": []
  }
 ],
 "metadata": {
  "kernelspec": {
   "display_name": "Python 3 (ipykernel)",
   "language": "python",
   "name": "python3"
  },
  "language_info": {
   "codemirror_mode": {
    "name": "ipython",
    "version": 3
   },
   "file_extension": ".py",
   "mimetype": "text/x-python",
   "name": "python",
   "nbconvert_exporter": "python",
   "pygments_lexer": "ipython3",
   "version": "3.9.13"
  }
 },
 "nbformat": 4,
 "nbformat_minor": 5
}
